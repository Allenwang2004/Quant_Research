{
 "cells": [
  {
   "cell_type": "code",
   "execution_count": 10,
   "metadata": {},
   "outputs": [],
   "source": [
    "import pandas as pd\n",
    "file_path = \"G:\\\\.shortcut-targets-by-id\\\\1S8djKM2uhjRMBv7_JZbyA6s1C43b4GrY\\\\DEV_INTERN_ALPHA_DATA\\\\pmart.parquet\"\n",
    "df = pd.read_parquet(file_path)"
   ]
  },
  {
   "cell_type": "code",
   "execution_count": 22,
   "metadata": {},
   "outputs": [
    {
     "data": {
      "text/html": [
       "        <script type=\"text/javascript\">\n",
       "        window.PlotlyConfig = {MathJaxConfig: 'local'};\n",
       "        if (window.MathJax && window.MathJax.Hub && window.MathJax.Hub.Config) {window.MathJax.Hub.Config({SVG: {font: \"STIX-Web\"}});}\n",
       "        if (typeof require !== 'undefined') {\n",
       "        require.undef(\"plotly\");\n",
       "        requirejs.config({\n",
       "            paths: {\n",
       "                'plotly': ['https://cdn.plot.ly/plotly-2.32.0.min']\n",
       "            }\n",
       "        });\n",
       "        require(['plotly'], function(Plotly) {\n",
       "            window._Plotly = Plotly;\n",
       "        });\n",
       "        }\n",
       "        </script>\n",
       "        "
      ]
     },
     "metadata": {},
     "output_type": "display_data"
    },
    {
     "name": "stdout",
     "output_type": "stream",
     "text": [
      "This is Medina Alpha Laboratory Factor Production\n",
      "Getting FactorExpression from medina alpha researcher.\n",
      "Start initializing data handler.\n",
      "Get all avaliable pmart data column.\n",
      "Start setting tsx weights data.\n",
      "Start setting listing and otc data.\n",
      "Start setting industry dict data.\n",
      "Start setting 2330f and TXF data.\n",
      "Start setting stock return data.\n",
      "Start setting ret_000 data, the TAIEX index without 2330.\n",
      "Start setting rolling trading value data.\n",
      "\n",
      "Data handler is initialized.\n",
      "Start running existing factor required data.\n",
      "Finish running existing factor required data.\n",
      "\n",
      "Factors ready to load.\n",
      "\n",
      "(1)\n",
      "To load all factors, set load_all_factor=True.\n",
      "Example: \n",
      "handler = AlphaClassHandler(load_all_factor=True)\n",
      "\n",
      "(2)\n",
      "To retrieve individual factors:\n",
      "Example: \n",
      "handler.get_revenue_growth_momentum()\n",
      "handler.get_earnings_growth_momentum()\n",
      "\n",
      "(3)\n",
      "Use handler.get_all() to load all factors.\n",
      "Example: \n",
      "handler.get_all()\n",
      "\n"
     ]
    }
   ],
   "source": [
    "import matplotlib.pyplot as plt\n",
    "import pandas as pd\n",
    "import numpy as np\n",
    "\n",
    "import sys\n",
    "sys.path.extend(['../', '../../', '../../../'])\n",
    "\n",
    "from backtest.alpha_laboratory.factor_prod import FactorProd\n",
    "from computation.operators import *\n",
    "\n",
    "handler = FactorProd(load_all = False, load_prepared_data = True)"
   ]
  },
  {
   "cell_type": "code",
   "execution_count": 23,
   "metadata": {},
   "outputs": [],
   "source": [
    "for feacture in df.columns[2:]:\n",
    "    handler.get_pmart_data(feacture)"
   ]
  },
  {
   "cell_type": "code",
   "execution_count": 27,
   "metadata": {},
   "outputs": [],
   "source": [
    "from tqdm import tqdm"
   ]
  },
  {
   "cell_type": "code",
   "execution_count": 29,
   "metadata": {},
   "outputs": [
    {
     "name": "stderr",
     "output_type": "stream",
     "text": [
      "100%|██████████| 124/124 [00:05<00:00, 23.87it/s]\n"
     ]
    }
   ],
   "source": [
    "for k, v in tqdm(handler.factor_required_data_dict.items()):\n",
    "    v.to_pickle(r'D:\\medina_alpha_research\\GA\\Data\\Feature\\{}.pkl'.format(k))"
   ]
  },
  {
   "cell_type": "code",
   "execution_count": 26,
   "metadata": {},
   "outputs": [
    {
     "data": {
      "text/plain": [
       "124"
      ]
     },
     "execution_count": 26,
     "metadata": {},
     "output_type": "execute_result"
    }
   ],
   "source": [
    "len(list(handler.factor_required_data_dict.keys()))"
   ]
  },
  {
   "cell_type": "code",
   "execution_count": 20,
   "metadata": {},
   "outputs": [
    {
     "name": "stdout",
     "output_type": "stream",
     "text": [
      "error in 合併(Y/N)\n",
      "error in 單季(Q)/單半年(H)\n",
      "error in 幣別\n",
      "error in CFO/負債\n",
      "error in CFO/合併總損益\n"
     ]
    }
   ],
   "source": [
    "for feacture in df.columns[2:]:\n",
    "    handler.get_pmart_data(feacture)\n",
    "    \n",
    "    try:\n",
    "        df_feacture = df.pivot_table(values= feacture, index='datetime', columns='symbol')\n",
    "        df_feacture.to_pickle(r'D:\\medina_alpha_research\\GA\\Data\\Feature\\{}.pkl'.format(feacture))\n",
    "    except:\n",
    "        print('error in {}'.format(feacture))\n",
    "        continue"
   ]
  },
  {
   "cell_type": "code",
   "execution_count": 19,
   "metadata": {},
   "outputs": [
    {
     "data": {
      "text/plain": [
       "'合併(Y/N)'"
      ]
     },
     "execution_count": 19,
     "metadata": {},
     "output_type": "execute_result"
    }
   ],
   "source": [
    "feacture"
   ]
  },
  {
   "cell_type": "code",
   "execution_count": 12,
   "metadata": {},
   "outputs": [],
   "source": [
    "df_financing_buy = df.pivot_table(values='融資買進(張)', index='datetime', columns='symbol')\n",
    "df_financing_buy\n",
    "df_financing_buy.to_pickle(r'D:\\medina_alpha_research\\GA\\Data\\Feature\\融資買進.pkl')"
   ]
  }
 ],
 "metadata": {
  "kernelspec": {
   "display_name": "medinavenv",
   "language": "python",
   "name": "python3"
  },
  "language_info": {
   "codemirror_mode": {
    "name": "ipython",
    "version": 3
   },
   "file_extension": ".py",
   "mimetype": "text/x-python",
   "name": "python",
   "nbconvert_exporter": "python",
   "pygments_lexer": "ipython3",
   "version": "3.11.5"
  }
 },
 "nbformat": 4,
 "nbformat_minor": 2
}
