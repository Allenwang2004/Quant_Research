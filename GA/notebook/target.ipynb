{
 "cells": [
  {
   "cell_type": "code",
   "execution_count": 4,
   "metadata": {},
   "outputs": [],
   "source": [
    "#讀取pkl檔案\n",
    "import pandas as pd\n",
    "df = pd.read_pickle('D:\\medina_alpha_research\\GA\\Data\\Feature\\收盤價_除權息.pkl')"
   ]
  },
  {
   "cell_type": "code",
   "execution_count": 8,
   "metadata": {},
   "outputs": [],
   "source": [
    "target = df.shift(-1)/df - 1\n",
    "target.to_pickle(r'D:\\medina_alpha_research\\GA\\Data\\target.pkl')"
   ]
  }
 ],
 "metadata": {
  "kernelspec": {
   "display_name": "medinavenv",
   "language": "python",
   "name": "python3"
  },
  "language_info": {
   "codemirror_mode": {
    "name": "ipython",
    "version": 3
   },
   "file_extension": ".py",
   "mimetype": "text/x-python",
   "name": "python",
   "nbconvert_exporter": "python",
   "pygments_lexer": "ipython3",
   "version": "3.11.5"
  }
 },
 "nbformat": 4,
 "nbformat_minor": 2
}
