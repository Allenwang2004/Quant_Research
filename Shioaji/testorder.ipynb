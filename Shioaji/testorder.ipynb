{
 "cells": [
  {
   "cell_type": "markdown",
   "metadata": {},
   "source": [
    "## Initialization"
   ]
  },
  {
   "cell_type": "code",
   "execution_count": 2,
   "metadata": {},
   "outputs": [
    {
     "name": "stdout",
     "output_type": "stream",
     "text": [
      "1.2.5\n"
     ]
    }
   ],
   "source": [
    "import shioaji as sj\n",
    "\n",
    "print(sj.__version__)\n",
    "# 1.0.0"
   ]
  },
  {
   "cell_type": "code",
   "execution_count": 2,
   "metadata": {},
   "outputs": [
    {
     "name": "stdout",
     "output_type": "stream",
     "text": [
      "Response Code: 0 | Event Code: 0 | Info: host '210.59.255.161:80', hostname '210.59.255.161:80' IP 210.59.255.161:80 (host 1 of 1) (host connection attempt 1 of 1) (total connection attempt 1 of 1) | Event: Session up\n"
     ]
    }
   ],
   "source": [
    "import os\n",
    "from dotenv import load_dotenv\n",
    "import shioaji as sj \n",
    "\n",
    "# 載入 .env 檔案中的環境變數\n",
    "load_dotenv()\n",
    "\n",
    "\n",
    "# 初始化 Shioaji API\n",
    "api = sj.Shioaji(simulation=True)\n",
    "api.login(\n",
    "    api_key=os.environ[\"API_KEY\"],      # 從環境變數載入 API Key\n",
    "    secret_key=os.environ[\"SECRET_KEY\"],  # 從環境變數載入 Secret Key\n",
    "    fetch_contract=False               # 是否預先下載合約資料\n",
    ")\n",
    "api.fetch_contracts(contract_download=True)"
   ]
  },
  {
   "cell_type": "markdown",
   "metadata": {},
   "source": [
    "## 定義委托單物件"
   ]
  },
  {
   "cell_type": "code",
   "execution_count": 4,
   "metadata": {},
   "outputs": [
    {
     "name": "stdout",
     "output_type": "stream",
     "text": [
      "OrderState.StockOrder {'operation': {'op_type': 'New', 'op_code': '88', 'op_msg': '價格超過漲跌幅範圍'}, 'order': {'id': '000002', 'seqno': '000002', 'ordno': '000139', 'account': {'account_type': 'S', 'person_id': '', 'broker_id': '9A95', 'account_id': '3678034', 'signed': False}, 'action': 'Buy', 'price': 18, 'quantity': 1, 'order_cond': 'Cash', 'order_lot': 'Common', 'custom_field': '', 'order_type': 'ROD', 'price_type': 'LMT'}, 'status': {'id': '000002', 'exchange_ts': 1733465633.274891, 'order_quantity': 0, 'modified_price': 0, 'cancel_quantity': 0, 'web_id': '137'}, 'contract': {'security_type': 'STK', 'exchange': 'TSE', 'code': '2890'}}\n"
     ]
    },
    {
     "data": {
      "text/plain": [
       "Trade(contract=Stock(exchange=<Exchange.TSE: 'TSE'>, code='2890', symbol='TSE2890', name='永豐金', category='17', unit=1000, limit_up=26.7, limit_down=21.9, reference=24.3, update_date='2024/12/06', day_trade=<DayTrade.Yes: 'Yes'>), order=Order(action=<Action.Buy: 'Buy'>, price=18, quantity=1, id='000002', seqno='000002', ordno='000139', account=Account(account_type=<AccountType.Stock: 'S'>, person_id='S125265236', broker_id='9A95', account_id='3678034'), price_type=<StockPriceType.LMT: 'LMT'>, order_type=<OrderType.ROD: 'ROD'>), status=OrderStatus(id='000002', status=<Status.PendingSubmit: 'PendingSubmit'>, status_code='00', order_datetime=datetime.datetime(2024, 12, 6, 14, 13, 53, 274891), deals=[]))"
      ]
     },
     "execution_count": 4,
     "metadata": {},
     "output_type": "execute_result"
    }
   ],
   "source": [
    "# contract - edit it\n",
    "contract = api.Contracts.Stocks.TSE[\"2890\"]\n",
    "\n",
    "# order - edit it\n",
    "order = api.Order(\n",
    "    price=18, \n",
    "    quantity=1, \n",
    "    action=sj.constant.Action.Buy, \n",
    "    price_type=sj.constant.StockPriceType.LMT, \n",
    "    order_type=sj.constant.OrderType.ROD, \n",
    "    account=api.stock_account\n",
    ")\n",
    "\n",
    "# place order\n",
    "trade = api.place_order(contract, order)\n",
    "trade\n"
   ]
  },
  {
   "cell_type": "code",
   "execution_count": 8,
   "metadata": {},
   "outputs": [
    {
     "name": "stdout",
     "output_type": "stream",
     "text": [
      "Response Code: 0 | Event Code: 0 | Info: host '210.59.255.161:80', hostname '210.59.255.161:80' IP 210.59.255.161:80 (host 1 of 1) (host connection attempt 1 of 1) (total connection attempt 1 of 1) | Event: Session up\n"
     ]
    },
    {
     "data": {
      "text/plain": [
       "[StockAccount(person_id='S125265236', broker_id='9A95', account_id='3678034', signed=True, username='王子儀')]"
      ]
     },
     "execution_count": 8,
     "metadata": {},
     "output_type": "execute_result"
    }
   ],
   "source": [
    "api = sj.Shioaji(simulation=False)   # Production Mode\n",
    "accounts = api.login(\n",
    "    api_key=os.environ[\"API_KEY\"],      # 從環境變數載入 API Key\n",
    "    secret_key=os.environ[\"SECRET_KEY\"],  # 從環境變數載入 Secret Key\n",
    ")\n",
    "accounts"
   ]
  },
  {
   "cell_type": "markdown",
   "metadata": {},
   "source": [
    "## Update"
   ]
  },
  {
   "cell_type": "code",
   "execution_count": null,
   "metadata": {},
   "outputs": [],
   "source": [
    "api.update_status(api.stock_account)\n",
    "trade"
   ]
  },
  {
   "cell_type": "markdown",
   "metadata": {},
   "source": [
    "## Modify"
   ]
  },
  {
   "cell_type": "code",
   "execution_count": null,
   "metadata": {},
   "outputs": [],
   "source": [
    "api.update_order(trade=trade, price=11.4, qty=1)\n",
    "api.update_status(api.stock_account)\n",
    "trade"
   ]
  },
  {
   "cell_type": "markdown",
   "metadata": {},
   "source": [
    "## Cancel"
   ]
  },
  {
   "cell_type": "code",
   "execution_count": null,
   "metadata": {},
   "outputs": [],
   "source": [
    "api.cancel_order(trade)\n",
    "api.update_status(api.stock_account)\n",
    "trade"
   ]
  }
 ],
 "metadata": {
  "kernelspec": {
   "display_name": "quant",
   "language": "python",
   "name": "python3"
  },
  "language_info": {
   "codemirror_mode": {
    "name": "ipython",
    "version": 3
   },
   "file_extension": ".py",
   "mimetype": "text/x-python",
   "name": "python",
   "nbconvert_exporter": "python",
   "pygments_lexer": "ipython3",
   "version": "3.11.5"
  }
 },
 "nbformat": 4,
 "nbformat_minor": 2
}
