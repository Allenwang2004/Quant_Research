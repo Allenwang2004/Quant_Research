{
 "cells": [
  {
   "cell_type": "code",
   "execution_count": null,
   "metadata": {},
   "outputs": [],
   "source": [
    "#和前面32組資料比較，計算前32筆資料的統計資料 需要包含price_pct_change, OI_pct_change\n",
    "#這裡對兩個資料前32筆資料進行統計分析，並且將結果print出來\n",
    "import pandas as pd\n",
    "import numpy as np\n",
    "\n",
    "# Load data\n",
    "price_df = pd.read_csv('C:/Quant/studygroup2/BTC_price_change.csv')\n",
    "OI_df = pd.read_csv('C:/Quant/studygroup2/BTC_OI_change.csv')\n",
    "\n",
    "# Merge data\n",
    "df = pd.merge(price_df, OI_df, left_on='timestamp', right_on='timestamp', suffixes=('_price', '_OI'))\n",
    "df.set_index('timestamp', inplace=True)\n",
    "\n",
    "# Calculate statistics\n",
    "price_stats = df['price_pct_change'].iloc[:32].describe()\n",
    "OI_stats = df['OI_pct_change'].iloc[:32].describe()\n",
    "\n",
    "# Print statistics\n",
    "print('Price Change Statistics:')\n",
    "print(price_stats)\n",
    "print()\n",
    "print('OI Change Statistics:')\n",
    "print(OI_stats)"
   ]
  }
 ],
 "metadata": {
  "language_info": {
   "name": "python"
  }
 },
 "nbformat": 4,
 "nbformat_minor": 2
}
