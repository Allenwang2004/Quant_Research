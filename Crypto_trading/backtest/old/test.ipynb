{
 "cells": [
  {
   "cell_type": "code",
   "execution_count": 2,
   "metadata": {},
   "outputs": [
    {
     "name": "stdout",
     "output_type": "stream",
     "text": [
      "         Unnamed: 0  long_OI_pct_change  price_pct_change  price_pct_change.1  \\\n",
      "symbol                                                                          \n",
      "CHZUSDT        2878            0.000643               0.0                 0.0   \n",
      "\n",
      "            open   close       sum  \n",
      "symbol                              \n",
      "CHZUSDT  0.05756  0.0575  0.000643  \n"
     ]
    }
   ],
   "source": [
    "import pandas as pd\n",
    "df = pd.read_csv(r'D:\\allen_trading_crypto\\data\\all_signal.csv')\n",
    "df.set_index(['datetime','symbol'], inplace=True)\n",
    "df['sum'] = df['long_OI_pct_change'] + df['price_pct_change']\n",
    "print(df.loc[df.index.get_level_values('datetime').max()].nlargest(5, 'sum'))"
   ]
  }
 ],
 "metadata": {
  "kernelspec": {
   "display_name": "quant",
   "language": "python",
   "name": "python3"
  },
  "language_info": {
   "codemirror_mode": {
    "name": "ipython",
    "version": 3
   },
   "file_extension": ".py",
   "mimetype": "text/x-python",
   "name": "python",
   "nbconvert_exporter": "python",
   "pygments_lexer": "ipython3",
   "version": "3.11.5"
  }
 },
 "nbformat": 4,
 "nbformat_minor": 2
}
